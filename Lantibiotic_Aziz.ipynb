{
  "nbformat": 4,
  "nbformat_minor": 0,
  "metadata": {
    "colab": {
      "provenance": [],
      "include_colab_link": true
    },
    "kernelspec": {
      "name": "python3",
      "display_name": "Python 3"
    },
    "language_info": {
      "name": "python"
    }
  },
  "cells": [
    {
      "cell_type": "markdown",
      "metadata": {
        "id": "view-in-github",
        "colab_type": "text"
      },
      "source": [
        "<a href=\"https://colab.research.google.com/github/AnastasiyaKrokhina/lantibiotics/blob/main/Lantibiotic_Aziz.ipynb\" target=\"_parent\"><img src=\"https://colab.research.google.com/assets/colab-badge.svg\" alt=\"Open In Colab\"/></a>"
      ]
    },
    {
      "cell_type": "code",
      "source": [
        "!pip install biopython"
      ],
      "metadata": {
        "colab": {
          "base_uri": "https://localhost:8080/"
        },
        "id": "eLOMB5KVrxiH",
        "outputId": "d303a8a4-de6c-44fd-8b1d-e37d39aa7281"
      },
      "execution_count": 4,
      "outputs": [
        {
          "output_type": "stream",
          "name": "stdout",
          "text": [
            "Requirement already satisfied: biopython in /usr/local/lib/python3.10/dist-packages (1.81)\n",
            "Requirement already satisfied: numpy in /usr/local/lib/python3.10/dist-packages (from biopython) (1.22.4)\n"
          ]
        }
      ]
    },
    {
      "cell_type": "code",
      "execution_count": 5,
      "metadata": {
        "id": "IbUBHhfxrOs0"
      },
      "outputs": [],
      "source": [
        "import pandas as pd\n",
        "from Bio import SeqIO\n",
        "import requests\n",
        "from io import StringIO"
      ]
    },
    {
      "cell_type": "code",
      "source": [
        "# чтение урл адреса к файлу\n",
        "# выполняется GET-запрос по указанной ссылке, и возвращаемый ответ сервера сохраняется в переменную data в виде текстовой строки.\n",
        "link = \"https://raw.githubusercontent.com/AnastasiyaKrokhina/lantibiotics/main/data/Lantibiotics_2021-09.fasta\"\n",
        "data = requests.get(link).text"
      ],
      "metadata": {
        "id": "_1mqk4KhrPt-"
      },
      "execution_count": 6,
      "outputs": []
    },
    {
      "cell_type": "markdown",
      "source": [
        "список переменных `bees_var`, каждая из которых содержит данные из отдельного файла, расположенного по определенному URL-адресу в Интернете. Файлы имеют расширение .tsv и содержат данные о совпадениях белков у пчел. Параметр `sep='\\t'` указывает, что данные в файлах разделены символом табуляции. `header=None` указывает, что в файлах нет заголовка столбцов.\n",
        "\n",
        "Список `bees_names` содержит названия файлов, соответствующие каждой переменной в списке `bees_var`."
      ],
      "metadata": {
        "id": "yjHnQoqstb93"
      }
    },
    {
      "cell_type": "code",
      "source": [
        "# чтение файла\n",
        "bees_var = [pd.read_csv(f'https://raw.githubusercontent.com/AnastasiyaKrokhina/lantibiotics/main/data/bee1/bee_{i}_matches.tsv', sep='\\t', header=None) for i in [13, 20, 25, 33, 41, 4, 66, 75]]\n",
        "bees_names = ['bee_13', 'bee_20', 'bee_25', 'bee_33', 'bee_41', 'bee_4', 'bee_66', 'bee_75']"
      ],
      "metadata": {
        "id": "qXTfdJB9raVf"
      },
      "execution_count": 7,
      "outputs": []
    },
    {
      "cell_type": "markdown",
      "source": [
        "Переменная `fasta_iterator` создается с помощью функции `SeqIO.parse()`, которая принимает два аргумента: `data` - строку с данными в формате FASTA, и `\"fasta\"` - указание на формат данных.\n",
        "\n",
        "Затем из объектов последовательностей, полученных с помощью `fasta_iterator`, извлекаются идентификаторы лантибиотиков в переменную `lantibiotics_id_list`"
      ],
      "metadata": {
        "id": "4DLIUX5_t36f"
      }
    },
    {
      "cell_type": "code",
      "source": [
        "#парсинг\n",
        "fasta_iterator = SeqIO.parse(StringIO(data), \"fasta\")\n",
        "# Extract the lantibiotics IDs\n",
        "lantibiotics_id_list = [seq.id for seq in fasta_iterator]"
      ],
      "metadata": {
        "id": "bFJqCONUrdD1"
      },
      "execution_count": 8,
      "outputs": []
    },
    {
      "cell_type": "code",
      "source": [
        "# создание датафрейма\n",
        "df = pd.DataFrame({ #'№': range(1, len(lantibiotics_id_list) + 1),\n",
        "                   'Лантибиотик': lantibiotics_id_list})"
      ],
      "metadata": {
        "id": "aCJgYL5jri9i"
      },
      "execution_count": 9,
      "outputs": []
    },
    {
      "cell_type": "markdown",
      "source": [
        "Цикл `for` используется для итерации по двум спискам `bees_var` и `bees_names`, которые должны быть одинаковой длины.\n",
        "\n",
        "Внутри цикла создается новая переменная `bee`, которой присваивается значение текущего элемента из списка `bees_var`. Затем выбираются первые три столбца из датафрейма `bee` и сохраняются в переменной `bee`.\n",
        "\n",
        "Далее, метод `value_counts()` вызывается на столбце с индексом 1 в датафрейме `bee` и результат сохраняется в переменной `lantibiotics`."
      ],
      "metadata": {
        "id": "aHsD6DmPuRHD"
      }
    },
    {
      "cell_type": "code",
      "source": [
        "# заполнение датафрейма\n",
        "for bee, name in zip(bees_var, bees_names):\n",
        "    # заполнение датафрейма\n",
        "    bee = bee.iloc[:, :3]\n",
        "    lantibiotics = bee[1].value_counts()"
      ],
      "metadata": {
        "id": "6jMASxJ5rfVW"
      },
      "execution_count": 10,
      "outputs": []
    },
    {
      "cell_type": "code",
      "source": [
        "    # заполнение датафрейма\n",
        "    df[name] = df['Лантибиотик'].apply(lambda x: lantibiotics.get(x, 0) / len(bee) * 100)\n",
        "    print(df)"
      ],
      "metadata": {
        "colab": {
          "base_uri": "https://localhost:8080/"
        },
        "id": "bnXKJeKRrod1",
        "outputId": "3d5b2579-245e-49da-86d4-08f87aee8d9f"
      },
      "execution_count": 11,
      "outputs": [
        {
          "output_type": "stream",
          "name": "stdout",
          "text": [
            "         Лантибиотик  bee_75\n",
            "0     WP_029376348.1     0.0\n",
            "1     WP_042739435.1     0.0\n",
            "2     WP_015057295.1     0.0\n",
            "3     WP_023416956.1     0.0\n",
            "4     WP_155961898.1     0.0\n",
            "...              ...     ...\n",
            "3562      EHD55949.1     0.0\n",
            "3563      EKU40925.1     0.0\n",
            "3564      EFB97951.1     0.0\n",
            "3565          JC6527     0.0\n",
            "3566      EFI65092.1     0.0\n",
            "\n",
            "[3567 rows x 2 columns]\n"
          ]
        }
      ]
    },
    {
      "cell_type": "code",
      "source": [
        "# удалить строки в таблице, где все значения равны 0%.\n",
        "df = df.loc[(df[df.columns[3:]] != 0).any(axis=1)]\n",
        "\n",
        "print(df)"
      ],
      "metadata": {
        "colab": {
          "base_uri": "https://localhost:8080/"
        },
        "id": "bXvw0WeVrrsG",
        "outputId": "d7c78ba6-34f5-495b-fdf7-74ef5f15a04a"
      },
      "execution_count": 12,
      "outputs": [
        {
          "output_type": "stream",
          "name": "stdout",
          "text": [
            "Empty DataFrame\n",
            "Columns: [Лантибиотик, bee_75]\n",
            "Index: []\n"
          ]
        }
      ]
    }
  ]
}